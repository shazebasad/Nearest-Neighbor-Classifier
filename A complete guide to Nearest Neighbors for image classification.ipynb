{
 "cells": [
  {
   "cell_type": "markdown",
   "metadata": {},
   "source": [
    "# Nearest neighbor for image classification\n",
    "\n",
    "In this notebook we will go through the idea behind the Nearest neighbor classifier, its shortcomings, its application to the MNIST dataset, and look at ways to improve the classifier to get better results\n",
    "\n",
    "The problem that we will be solving today is that, given an image of a hand written digit, we need to output the correct digit that is represented within the image"
   ]
  },
  {
   "cell_type": "markdown",
   "metadata": {},
   "source": [
    "## The MNIST dataset\n",
    "\n",
    "The MNIST dataset of handwritten digits have the following data:\n",
    " - Training set of 60,000 images and their labels \n",
    "     -  We will use the training set to train a classifier (a function that takes an input an image and outputs what the correct digit is)\n",
    " \n",
    " \n",
    " - Test set of 10,000 images and their labels\n",
    "     - We will use the test set to evaluate how good our classifier is"
   ]
  },
  {
   "cell_type": "markdown",
   "metadata": {},
   "source": [
    "### Nearest Neighbor classification\n",
    "\n",
    "We have a training set of 60,000 images, in order to classify a new image x, we simply look through this training set and find the image that is the closest to x, the nearest neighbor of x, and then we output the label of the nearest neighbor.\n",
    "\n",
    "#### How to measure the measure distance between images?\n",
    "\n",
    "In order to implement this idea, we need a notion of distance a notion of closeness between images.Therefore to apply this method, we need to first convert the image into an appropriate representation so that we could calculate this distance. We do this by representing each image by a vector in the follwoing way:\n",
    "\n",
    "- Each MNIST image has a size of 28 * 28 (total: 784 pixels) with each pixel being grayscale: 0-255 (0 means completely black and 255 means completely white) and we just stretch the image out into a vector with 784 coordinates (each coordinate representing a pixel) by copying the first 28 pixels in the first row and laying them out in a vector, then copying the next 28 pixels in the second row, and so on until the last 28 pixels in the 28th row. This way each image becomes a vector with 784 coordinates. \n",
    "\n",
    "#### The Distance functions\n",
    "\n",
    "How do we compute this distance between two of these 784 dimensional vectors? We can use e.g the following distance functions. Here I will just list them but we will go into the details of the euclidean distance later on because that is the one we will be using.\n",
    "\n",
    "1. Euclidean Distance \n",
    "2. Manhattan Distance\n",
    "3. Minkowski Distance\n"
   ]
  },
  {
   "cell_type": "markdown",
   "metadata": {},
   "source": [
    "## 1. Analyzing the dataset\n",
    "\n",
    "Now lets start off by importing the dataset and analyzing it a bit"
   ]
  },
  {
   "cell_type": "code",
   "execution_count": 56,
   "metadata": {},
   "outputs": [
    {
     "data": {
      "text/plain": [
       "dict_keys(['data', 'target', 'frame', 'categories', 'feature_names', 'target_names', 'DESCR', 'details', 'url'])"
      ]
     },
     "execution_count": 56,
     "metadata": {},
     "output_type": "execute_result"
    }
   ],
   "source": [
    "%matplotlib inline\n",
    "import numpy as np\n",
    "import matplotlib.pyplot as plt \n",
    "import time\n",
    "\n",
    "from sklearn.datasets import fetch_openml\n",
    "mnist = fetch_openml('mnist_784', version = 1)\n",
    "mnist.keys()"
   ]
  },
  {
   "cell_type": "code",
   "execution_count": 57,
   "metadata": {},
   "outputs": [],
   "source": [
    "## Load the training set and the test set\n",
    "X , y = mnist[\"data\"], mnist[\"target\"]"
   ]
  },
  {
   "cell_type": "code",
   "execution_count": 58,
   "metadata": {},
   "outputs": [],
   "source": [
    "## assign the training set\n",
    "train_data = X[:60000]\n",
    "train_labels = y[:60000]\n",
    "\n",
    "## assign the test set\n",
    "test_data = X[60000:]\n",
    "test_labels = y[60000:]"
   ]
  },
  {
   "cell_type": "code",
   "execution_count": 59,
   "metadata": {},
   "outputs": [
    {
     "name": "stdout",
     "output_type": "stream",
     "text": [
      "Training set dimensions:  (60000, 784)\n",
      "Number of labels in the training set:  60000\n",
      "Test set dimensions:  (10000, 784)\n",
      "Numbe of labels in the test set:  10000\n"
     ]
    }
   ],
   "source": [
    "#output dimensions for the training and test set\n",
    "print(\"Training set dimensions: \", np.shape(train_data))\n",
    "print(\"Number of labels in the training set: \", len(train_labels))\n",
    "print(\"Test set dimensions: \", np.shape(test_data))\n",
    "print(\"Numbe of labels in the test set: \", len(test_labels))"
   ]
  },
  {
   "cell_type": "code",
   "execution_count": 62,
   "metadata": {},
   "outputs": [
    {
     "data": {
      "text/plain": [
       "numpy.ndarray"
      ]
     },
     "execution_count": 62,
     "metadata": {},
     "output_type": "execute_result"
    }
   ],
   "source": [
    "type(train_data)"
   ]
  },
  {
   "cell_type": "code",
   "execution_count": 11,
   "metadata": {},
   "outputs": [],
   "source": [
    "#Return the labels and their position for a barchart\n",
    "def addlabels(x, y):\n",
    "    for i in range(len(x)):\n",
    "        plt.text(i, y[i] + 50, y[i], ha = 'center',fontsize = 12)"
   ]
  },
  {
   "cell_type": "code",
   "execution_count": 12,
   "metadata": {
    "scrolled": true
   },
   "outputs": [
    {
     "name": "stdout",
     "output_type": "stream",
     "text": [
      "Training set digit frequency: \n",
      " {'0': 5923, '1': 6742, '2': 5958, '3': 6131, '4': 5842, '5': 5421, '6': 5918, '7': 6265, '8': 5851, '9': 5949}\n"
     ]
    },
    {
     "data": {
      "image/png": "[encoded data removed]",
      "text/plain": [
       "<Figure size 1080x576 with 1 Axes>"
      ]
     },
     "metadata": {
      "needs_background": "light"
     },
     "output_type": "display_data"
    }
   ],
   "source": [
    "#Determining frequency of each digit within the training dataset\n",
    "train_digits, train_counts = np.unique(train_labels, return_counts = True)\n",
    "train_freq = dict(zip(train_digits,train_counts))\n",
    "print(\"Training set digit frequency: \\n\" ,train_freq)\n",
    "\n",
    "#plotting a bar chart for the frequency\n",
    "plt.figure(figsize=(15,8))\n",
    "plt.bar(*zip(*train_freq.items()), color = '#B00A0A')\n",
    "addlabels(list(train_freq.keys()),list(train_freq.values()))\n",
    "plt.xlabel(\"Digits\")\n",
    "plt.ylabel(\"Frequency\")\n",
    "plt.title(\"Frequency of digits in the training set\")\n",
    "plt.show()\n",
    "\n"
   ]
  },
  {
   "cell_type": "code",
   "execution_count": 13,
   "metadata": {
    "scrolled": true
   },
   "outputs": [
    {
     "name": "stdout",
     "output_type": "stream",
     "text": [
      "Test set digit frequency: \n",
      " {'0': 980, '1': 1135, '2': 1032, '3': 1010, '4': 982, '5': 892, '6': 958, '7': 1028, '8': 974, '9': 1009}\n"
     ]
    },
    {
     "data": {
      "image/png": "[encoded data removed]",
      "text/plain": [
       "<Figure size 1080x576 with 1 Axes>"
      ]
     },
     "metadata": {
      "needs_background": "light"
     },
     "output_type": "display_data"
    }
   ],
   "source": [
    "#Determining frequency of each digit within the test dataset\n",
    "test_digits, test_counts = np.unique(test_labels, return_counts = True)\n",
    "test_freq = dict(zip(test_digits, test_counts))\n",
    "print(\"Test set digit frequency: \\n\", test_freq)\n",
    "\n",
    "plt.figure(figsize=(15,8))\n",
    "plt.bar(*zip(*test_freq.items()), color = '#630404')\n",
    "addlabels(list(test_freq.keys()),list(test_freq.values()))\n",
    "plt.xlabel(\"Digits\")\n",
    "plt.ylabel(\"Frequency\")\n",
    "plt.title(\"Frequency of digits in the test set\")\n",
    "plt.show()\n"
   ]
  },
  {
   "cell_type": "markdown",
   "metadata": {},
   "source": [
    "## 2. Visualizing an image\n",
    "\n",
    "Remember that each image is stored as a 784 dimensional vector. To visualize an image, we need to first reshape it to a 28 by 28 image"
   ]
  },
  {
   "cell_type": "code",
   "execution_count": 67,
   "metadata": {},
   "outputs": [
    {
     "data": {
      "image/png": "[encoded data removed]",
      "text/plain": [
       "<Figure size 432x288 with 1 Axes>"
      ]
     },
     "metadata": {
      "needs_background": "light"
     },
     "output_type": "display_data"
    },
    {
     "name": "stdout",
     "output_type": "stream",
     "text": [
      "Label 3\n"
     ]
    },
    {
     "data": {
      "image/png": "[encoded data removed]",
      "text/plain": [
       "<Figure size 432x288 with 1 Axes>"
      ]
     },
     "metadata": {
      "needs_background": "light"
     },
     "output_type": "display_data"
    },
    {
     "name": "stdout",
     "output_type": "stream",
     "text": [
      "Label 7\n"
     ]
    }
   ],
   "source": [
    "## Define a function that displays a digit given its vector representation\n",
    "def digit_visual(x):\n",
    "    plt.axis('off')\n",
    "    plt.imshow(x.reshape((28,28)), cmap = plt.cm.gray)\n",
    "    plt.show()\n",
    "    return\n",
    "\n",
    "## Define a function that takes an index into a particular data set (\"train\" or \"test\") and displays that image.\n",
    "def display(index, dataset = \"train_set\"):\n",
    "    if dataset == \"train_set\":\n",
    "        digit_visual(train_data[index])\n",
    "        label = train_labels[index]\n",
    "    else:\n",
    "        digit_visual(test_data[index])\n",
    "        label = test_labels[index]\n",
    "    print(\"Label \" + str(label))\n",
    "\n",
    "## Lets view a random data point in the training set by giving its index\n",
    "display(50000, \"train_set\")\n",
    "\n",
    "## Now lets view a random data point in the test set by giving its index\n",
    "display(0, \"test_set\")"
   ]
  },
  {
   "attachments": {
    "1_yjxwoNqIwb1fXW26HvK_Kw.png": {
     "image/png": "[encoded data removed]"
    }
   },
   "cell_type": "markdown",
   "metadata": {},
   "source": [
    "## 3. Euclidean distance\n",
    "\n",
    "Lets start off by reviewing what the euclidean distance is in two dimensions. if we have two points (x1,y1) and (x2,y2) the euclidean distance between these two points is simply the straight line connecting these two points. \n",
    "\n",
    "![1_yjxwoNqIwb1fXW26HvK_Kw.png](attachment:1_yjxwoNqIwb1fXW26HvK_Kw.png)\n",
    "\n",
    "Notice that these points differ along the first coordinate by ($x_2 - x_1$) and along the second coordinate by ($y_2-y_1$) and therefore the length of the straight line connecting the two is the square root of $\\sqrt (x_2-x_1)^2 + (y_2-y)^2\\$\n",
    "\n",
    "For any d dimensions the euclidean distance is defined as follows:\n",
    "$$\\|x - y\\| = \\sqrt{\\sum_{i=1}^d (x_i - y_i)^2}.$$\n",
    "\n",
    "Often we omit the square root, and simply compute _squared Euclidean distance_:\n",
    "$$\\|x - y\\|^2 = \\sum_{i=1}^d (x_i - y_i)^2.$$\n",
    "For the purposes of nearest neighbor computations, the two are equivalent: for three vectors $x, y, z \\in \\mathbb{R}^d$, we have $\\|x - y\\| \\leq \\|x - z\\|$ if and only if $\\|x - y\\|^2 \\leq \\|x - z\\|^2$.\n",
    "\n",
    "Since the squared euclidean distance is rquivalent to the general euclidean distance formula in our case, we will simply use the squared euclidean distance\n",
    "\n",
    "\n",
    "\n",
    "\n"
   ]
  },
  {
   "cell_type": "code",
   "execution_count": null,
   "metadata": {},
   "outputs": [],
   "source": [
    "## calculates the squared euclidean distance between two vectors\n",
    "def squared_euclidean(x,y):\n",
    "    return np.sum(np.square(x-y))"
   ]
  },
  {
   "cell_type": "markdown",
   "metadata": {},
   "source": [
    "## 4. Prototype\n",
    "\n",
    "Before we compute the Nearest Neighbor with the euclidean method, there is one very important thing that we need to consider, performing the nearest neighbor requires a full pass through the training set, which means that each point in the training set is compared to each point in the rest of the training set. If there are $N$ training points in $R^d$ , this takes $O(N d)$ time\n",
    "\n",
    "We therefore cannot use 60,000 * 784 points since that will take too long. One way to speed up this process is through carefully choosing a subset of the training set to use in the classifier. The selected points are thought of as prototypes. \n",
    "\n",
    "Now there are statistical ways to select these prototypes, however we will not go through them but feel free to look them up if you want. Instead, we will choose these prototypes at random from the training set and then run our nearest neighbor clasifier on them "
   ]
  },
  {
   "cell_type": "code",
   "execution_count": null,
   "metadata": {},
   "outputs": [],
   "source": [
    "\"\"\"\n",
    "given a positive integer N, less than the length of the training set, \n",
    "returns a random subset of the training set of length N with the corresponding labels\n",
    "\"\"\"\n",
    "def rand_prototypes(N, dataset = 'train'):\n",
    "    if dataset == 'train':\n",
    "        indices = np.random.choice( len(train_labels) , N, replace=False)\n",
    "        return train_data[indices,:], train_labels[indices]\n",
    "    else:\n",
    "        indices = np.random.choice( len(test_labels) , N, replace=False)\n",
    "        return test_data[indices,:], test_labels[indices]"
   ]
  },
  {
   "cell_type": "markdown",
   "metadata": {},
   "source": [
    "Lets test the ran_prototype function, with N = 7500 and compare it to our original training set of 60,000 images"
   ]
  },
  {
   "cell_type": "code",
   "execution_count": null,
   "metadata": {},
   "outputs": [],
   "source": [
    "prototype_train_data, prototype_train_labels = rand_prototypes(7500)\n",
    "prototype_test_data, prototype_test_labels = rand_prototypes(1000,'test')\n",
    "\n",
    "print(\"Shape of train_data:\", train_data.shape)\n",
    "print(\"Shape of array of prototypes of training data: \", prototype_train_data.shape)\n",
    "\n",
    "print(\"Shape of test_data:\", test_data.shape)\n",
    "print(\"Shape of array of prototypes of test data: \", prototype_test_data.shape)"
   ]
  },
  {
   "cell_type": "markdown",
   "metadata": {},
   "source": [
    "## 5. Nearest Neighbor classifier computation\n",
    "\n",
    "Now that we have defined our distance function and gotten our prototypes for both the train and the test data, we can turn to nearest neighbor classification"
   ]
  },
  {
   "cell_type": "code",
   "execution_count": null,
   "metadata": {},
   "outputs": [],
   "source": [
    "## Takes a vector x and returns the index of its nearest neighbor in train_data\n",
    "def NearestN(x):\n",
    "    # Compute distances from x to every row in train_data\n",
    "    distances = [squared_euclidean(x,prototype_train_data[i,]) for i in range(len(prototype_train_labels))]\n",
    "    # Get the index of the smallest distance\n",
    "    return np.argmin(distances)\n",
    "\n",
    "## Takes a vector x and returns the class of its nearest neighbor in train_data\n",
    "def NearestN_classifier(x):\n",
    "    # Get the index of the the nearest neighbor\n",
    "    index = NearestN(x)\n",
    "    # Return its class\n",
    "    return prototype_train_labels[index]"
   ]
  },
  {
   "cell_type": "markdown",
   "metadata": {},
   "source": [
    "## 6. Applying the nearest neighbor classifier to the subset of the training data (prototype)"
   ]
  },
  {
   "cell_type": "code",
   "execution_count": 238,
   "metadata": {
    "scrolled": true
   },
   "outputs": [
    {
     "name": "stdout",
     "output_type": "stream",
     "text": [
      "Error of nearest neighbor classifier:  5.5 &\n",
      "Classification time (seconds):  60.96961998939514\n"
     ]
    }
   ],
   "source": [
    "## Predict on each test data point (and time it!)\n",
    "t_before = time.time()\n",
    "test_predictions = [NearestN_classifier(prototype_test_data[i,]) for i in range(len(prototype_test_labels))]\n",
    "t_after = time.time()\n",
    "\n",
    "## Compute the error\n",
    "err_positions = np.not_equal(test_predictions, prototype_test_labels)\n",
    "error = float(np.sum(err_positions))/len(prototype_test_labels)\n",
    "\n",
    "print(\"Error of nearest neighbor classifier: \", error*100, \"%\")\n",
    "print(\"Classification time (seconds): \", t_after - t_before)"
   ]
  },
  {
   "cell_type": "markdown",
   "metadata": {},
   "source": [
    "## 8. Pause and Reflect\n",
    "We have so far seen how to implement the nearest neighbor classifier from scratch. We now have a thorough grounding of the basics behind NN and therefore we can now move on to applying the Nearest neighbor classifier on the whole training set. Before doing that, notice that we get an error rate of just 5.5 %. With such a simple classifier we have gotten a very small error rate. It makes sense that if we train the classifier on the whole training set we will get a better result. And this is something we will see now"
   ]
  },
  {
   "cell_type": "markdown",
   "metadata": {},
   "source": [
    "## 7. Faster nearest neighbor methods\n",
    "\n",
    "There are faster methods to perform nearest neighbor using `scikit-learn` implementations of two useful nearest neighbor data structures: the _ball tree_ and the _k-d tree_. "
   ]
  },
  {
   "cell_type": "code",
   "execution_count": 63,
   "metadata": {},
   "outputs": [
    {
     "name": "stdout",
     "output_type": "stream",
     "text": [
      "Time to build data structure (seconds):  45.316919803619385\n",
      "Time to classify test set (seconds):  669.4102132320404\n"
     ]
    }
   ],
   "source": [
    "from sklearn.neighbors import BallTree\n",
    "\n",
    "## Build nearest neighbor structure on training data\n",
    "t_before = time.time()\n",
    "ball_tree = BallTree(train_data)\n",
    "t_after = time.time()\n",
    "\n",
    "## Compute training time\n",
    "t_training = t_after - t_before\n",
    "print(\"Time to build data structure (seconds): \", t_training)\n",
    "\n",
    "## Get nearest neighbor predictions on testing data\n",
    "t_before = time.time()\n",
    "test_neighbors = np.squeeze(ball_tree.query(test_data, k=1, return_distance=False))\n",
    "ball_tree_predictions = train_labels[test_neighbors]\n",
    "t_after = time.time()\n",
    "\n",
    "## Compute testing time\n",
    "t_testing = t_after - t_before\n",
    "print(\"Time to classify test set (seconds): \", t_testing)\n",
    "\n",
    "## Verify that the predictions are the same"
   ]
  },
  {
   "cell_type": "code",
   "execution_count": 64,
   "metadata": {},
   "outputs": [
    {
     "name": "stdout",
     "output_type": "stream",
     "text": [
      "Error of nearest neighbor classifier:  3.09 %\n"
     ]
    }
   ],
   "source": [
    "ball_tree_err_positions = np.not_equal(ball_tree_predictions, test_labels)\n",
    "ball_tree_error = float(np.sum(ball_tree_err_positions))/len(test_labels)\n",
    "\n",
    "print(\"Error of nearest neighbor classifier: \", ball_tree_error*100, \"%\")"
   ]
  },
  {
   "cell_type": "code",
   "execution_count": 65,
   "metadata": {},
   "outputs": [
    {
     "name": "stdout",
     "output_type": "stream",
     "text": [
      "Time to build data structure (seconds):  32.6708710193634\n",
      "Time to classify test set (seconds):  795.0816683769226\n"
     ]
    }
   ],
   "source": [
    "from sklearn.neighbors import KDTree\n",
    "\n",
    "## Build nearest neighbor structure on training data\n",
    "t_before = time.time()\n",
    "kd_tree = KDTree(train_data)\n",
    "t_after = time.time()\n",
    "\n",
    "## Compute training time\n",
    "t_training = t_after - t_before\n",
    "print(\"Time to build data structure (seconds): \", t_training)\n",
    "\n",
    "## Get nearest neighbor predictions on testing data\n",
    "t_before = time.time()\n",
    "test_neighbors = np.squeeze(kd_tree.query(test_data, k=1, return_distance=False))\n",
    "kd_tree_predictions = train_labels[test_neighbors]\n",
    "t_after = time.time()\n",
    "\n",
    "## Compute testing time\n",
    "t_testing = t_after - t_before\n",
    "print(\"Time to classify test set (seconds): \", t_testing)\n",
    "\n",
    "## Verify that the predictions are the same"
   ]
  },
  {
   "cell_type": "code",
   "execution_count": 66,
   "metadata": {},
   "outputs": [
    {
     "name": "stdout",
     "output_type": "stream",
     "text": [
      "Error of nearest neighbor classifier:  3.09 %\n"
     ]
    }
   ],
   "source": [
    "kd_tree_err_positions = np.not_equal(kd_tree_predictions, test_labels)\n",
    "kd_tree_error = float(np.sum(kd_tree_err_positions))/len(test_labels)\n",
    "\n",
    "print(\"Error of nearest neighbor classifier: \", kd_tree_error*100 , \"%\")"
   ]
  },
  {
   "cell_type": "markdown",
   "metadata": {},
   "source": [
    "## 9. Accuracy of nearest neighbor on MNIST\n",
    "\n",
    "As we have seen using the nearest neighbor classfiier gives us an accuracy of 96.91 % with an error rate of 3.09 %. To put this in perspective consider a random classifier, one that picks a label 0 to 9 at random. This means that the classifier does not look at the data but guesses a number from 0 to 9 at random. The accuracy for such a classifier would be just 10 % since it will be right 1 out of 10 times. The error rate would therefore be 90 %. Nearest Neighbor does a great job considering how simple it is. \n",
    "\n",
    "However, we can still further improve on the accuracy of the classifier by tweaking our classifier a bit. We will look at two more ways to make the nearest neighbor classifier even more powerful.\n",
    "\n"
   ]
  },
  {
   "cell_type": "markdown",
   "metadata": {},
   "source": [
    "## 10. K Nearest Neighbors\n",
    "\n",
    "When doing nearest neighbors, instead of simply looking for the one closest point in the test set, find the closest say three points, or the closest five points. They each will have a label, return the majority label, or the most common label. Lets implement K nearest enighbors for a random value of k = 3. \n",
    "\n",
    "We will use scikit learns implementation of K nearest neighboirs intead of doing it from scratch. However, the idea will remain the same, we will still be using the euclidean distance to measure didstance between two vectors in $R^d$ space"
   ]
  },
  {
   "cell_type": "code",
   "execution_count": 29,
   "metadata": {},
   "outputs": [
    {
     "data": {
      "text/plain": [
       "KNeighborsClassifier(n_neighbors=3, weights='distance')"
      ]
     },
     "execution_count": 29,
     "metadata": {},
     "output_type": "execute_result"
    }
   ],
   "source": [
    "from sklearn.neighbors import KNeighborsClassifier\n",
    "\n",
    "kNN = KNeighborsClassifier(weights='distance', n_neighbors=3)\n",
    "#Train the classifier\n",
    "kNN.fit(train_data, train_labels)"
   ]
  },
  {
   "cell_type": "code",
   "execution_count": 30,
   "metadata": {},
   "outputs": [],
   "source": [
    "#predict on the test set\n",
    "kNN_prediction = kNN.predict(test_data)"
   ]
  },
  {
   "cell_type": "code",
   "execution_count": 31,
   "metadata": {},
   "outputs": [
    {
     "data": {
      "text/plain": [
       "0.9717"
      ]
     },
     "execution_count": 31,
     "metadata": {},
     "output_type": "execute_result"
    }
   ],
   "source": [
    "from sklearn.metrics import accuracy_score\n",
    "#Compute the accuracy of the classifier\n",
    "accuracy_score(test_labels, kNN_prediction)"
   ]
  },
  {
   "cell_type": "code",
   "execution_count": 32,
   "metadata": {},
   "outputs": [
    {
     "name": "stdout",
     "output_type": "stream",
     "text": [
      "KNearest Neighbors error rate:  2.83 %\n"
     ]
    }
   ],
   "source": [
    "kNN_error = round((1 - accuracy_score(test_labels, kNN_prediction))*100,2)\n",
    "print(\"KNearest Neighbors error rate: \",kNN_error, \"%\")"
   ]
  },
  {
   "cell_type": "markdown",
   "metadata": {},
   "source": [
    "As you can see, we drastically improved our model from an error rate of 3.09 % to an error rate of 2.83 % by considering 3 nearest neighbors instead of just one. However, the question that arises here is what value of k or how many nearest neighbors should be look at. To find the optimum value of k we will have to check for each value of k with k being a positive integer greater than 0, which one yields the lowest error rate. \n",
    "\n",
    "Now one important thing to consider is that for testing different values of k we can not use the test set again and again since our classifier has already seen the test set when we tested it the first time. We therefore need to think of a way to test different values of k on the training set and then using that value of k that yields the least error to evaluate the test set. \n",
    "\n",
    "Solution: Gridsearch with Cross-validation\n",
    "\n",
    "## 11. GridSearchCV\n",
    "\n",
    "### Cross-validation:\n",
    "\n",
    "Idea behind cross-validation: Suppose we want to evaluate a particular choice of k, e.g 3 nearest neighbor, k = 3. We want to estimate the error rate of k nearest neighbor but by only using the training set. We do this, by running a N-fold Cross validation. E.g a 10 fold cross validation would work as follows: \n",
    "\n",
    "-  Divide the training set into 10 equal pieces:\n",
    "    -  In the case of MNIST data we divide the 60,000 points into 10 equal pieces of 6000 points each. Call the pieces $S_1,....,S_10$\n",
    "    \n",
    "    \n",
    "-  Now for each piece, $S_i$:\n",
    "    \n",
    "    -  We will take just that chunk, the $S_i$, and we will think of it as the test set and we will think of the remaining nine chunks as the training set. \n",
    "    -  For each of the 6000 points in $S_i$ , we will classify it using the remaining 54,000 points. This will give us an error for each $S_i$ which we will call $epsilon_i$\n",
    "    -  Once we do this for each piece, we will have 10 error rates, $epsilon_1$ to $epsilon_10$ for each $S_i$. We then average them to get an estimated error. We therefore need to pick that value of k that has the lowest estimated error\n",
    "    \n",
    "Now we can not manually go through this process for each value of k again and again. Fortunately, we have GridSearchCV for this very purpose which allows us to test different values of k by running them through the cross-validation. Lets see how this will work\n",
    "\n"
   ]
  },
  {
   "cell_type": "code",
   "execution_count": 23,
   "metadata": {},
   "outputs": [
    {
     "name": "stdout",
     "output_type": "stream",
     "text": [
      "Fitting 5 folds for each of 3 candidates, totalling 15 fits\n",
      "[CV] n_neighbors=3, weights=distance .................................\n"
     ]
    },
    {
     "name": "stderr",
     "output_type": "stream",
     "text": [
      "[Parallel(n_jobs=1)]: Using backend SequentialBackend with 1 concurrent workers.\n"
     ]
    },
    {
     "name": "stdout",
     "output_type": "stream",
     "text": [
      "[CV] ..... n_neighbors=3, weights=distance, score=0.972, total=15.0min\n",
      "[CV] n_neighbors=3, weights=distance .................................\n"
     ]
    },
    {
     "name": "stderr",
     "output_type": "stream",
     "text": [
      "[Parallel(n_jobs=1)]: Done   1 out of   1 | elapsed: 15.0min remaining:    0.0s\n"
     ]
    },
    {
     "name": "stdout",
     "output_type": "stream",
     "text": [
      "[CV] ..... n_neighbors=3, weights=distance, score=0.972, total=14.2min\n",
      "[CV] n_neighbors=3, weights=distance .................................\n"
     ]
    },
    {
     "name": "stderr",
     "output_type": "stream",
     "text": [
      "[Parallel(n_jobs=1)]: Done   2 out of   2 | elapsed: 29.2min remaining:    0.0s\n"
     ]
    },
    {
     "name": "stdout",
     "output_type": "stream",
     "text": [
      "[CV] ..... n_neighbors=3, weights=distance, score=0.970, total=15.2min\n",
      "[CV] n_neighbors=3, weights=distance .................................\n",
      "[CV] ..... n_neighbors=3, weights=distance, score=0.970, total=14.7min\n",
      "[CV] n_neighbors=3, weights=distance .................................\n",
      "[CV] ..... n_neighbors=3, weights=distance, score=0.971, total=15.2min\n",
      "[CV] n_neighbors=4, weights=distance .................................\n",
      "[CV] ..... n_neighbors=4, weights=distance, score=0.973, total=15.5min\n",
      "[CV] n_neighbors=4, weights=distance .................................\n",
      "[CV] ..... n_neighbors=4, weights=distance, score=0.972, total=15.6min\n",
      "[CV] n_neighbors=4, weights=distance .................................\n",
      "[CV] ..... n_neighbors=4, weights=distance, score=0.970, total=15.5min\n",
      "[CV] n_neighbors=4, weights=distance .................................\n",
      "[CV] ..... n_neighbors=4, weights=distance, score=0.971, total=15.8min\n",
      "[CV] n_neighbors=4, weights=distance .................................\n",
      "[CV] ..... n_neighbors=4, weights=distance, score=0.972, total=13.7min\n",
      "[CV] n_neighbors=5, weights=distance .................................\n",
      "[CV] ..... n_neighbors=5, weights=distance, score=0.970, total=13.7min\n",
      "[CV] n_neighbors=5, weights=distance .................................\n",
      "[CV] ..... n_neighbors=5, weights=distance, score=0.971, total=17.1min\n",
      "[CV] n_neighbors=5, weights=distance .................................\n",
      "[CV] ..... n_neighbors=5, weights=distance, score=0.970, total=18.0min\n",
      "[CV] n_neighbors=5, weights=distance .................................\n",
      "[CV] ..... n_neighbors=5, weights=distance, score=0.969, total=17.0min\n",
      "[CV] n_neighbors=5, weights=distance .................................\n",
      "[CV] ..... n_neighbors=5, weights=distance, score=0.971, total=16.9min\n"
     ]
    },
    {
     "name": "stderr",
     "output_type": "stream",
     "text": [
      "[Parallel(n_jobs=1)]: Done  15 out of  15 | elapsed: 233.1min finished\n"
     ]
    },
    {
     "data": {
      "text/plain": [
       "GridSearchCV(cv=5, estimator=KNeighborsClassifier(),\n",
       "             param_grid=[{'n_neighbors': [3, 4, 5], 'weights': ['distance']}],\n",
       "             verbose=3)"
      ]
     },
     "execution_count": 23,
     "metadata": {},
     "output_type": "execute_result"
    }
   ],
   "source": [
    "from sklearn.model_selection import GridSearchCV\n",
    "\n",
    "param_grid = [{'weights':[\"distance\"], 'n_neighbors' : [3,4,5]}]\n",
    "\n",
    "kNN_classifier = KNeighborsClassifier()\n",
    "grid_search = GridSearchCV(kNN_classifier, param_grid, cv = 5, verbose = 3)\n",
    "grid_search.fit(train_data,train_labels)"
   ]
  },
  {
   "cell_type": "code",
   "execution_count": 24,
   "metadata": {},
   "outputs": [
    {
     "data": {
      "text/plain": [
       "{'n_neighbors': 4, 'weights': 'distance'}"
      ]
     },
     "execution_count": 24,
     "metadata": {},
     "output_type": "execute_result"
    }
   ],
   "source": [
    "grid_search.best_params_"
   ]
  },
  {
   "cell_type": "code",
   "execution_count": 25,
   "metadata": {},
   "outputs": [
    {
     "data": {
      "text/plain": [
       "0.9716166666666666"
      ]
     },
     "execution_count": 25,
     "metadata": {},
     "output_type": "execute_result"
    }
   ],
   "source": [
    "grid_search.best_score_"
   ]
  },
  {
   "cell_type": "code",
   "execution_count": 28,
   "metadata": {},
   "outputs": [
    {
     "data": {
      "text/plain": [
       "0.9714"
      ]
     },
     "execution_count": 28,
     "metadata": {},
     "output_type": "execute_result"
    }
   ],
   "source": [
    "from sklearn.metrics import accuracy_score\n",
    "\n",
    "y_pred = grid_search.predict(test_data)\n",
    "accuracy_score(test_labels, y_pred)"
   ]
  },
  {
   "cell_type": "markdown",
   "metadata": {},
   "source": [
    "## 12. Image Augmentation\n",
    "\n",
    "Lastly we will use a technique called data augmentation or training set expansion to increase our training set by shifting each image to the left, to the right, up and down by a certain number of pixels and then train the best model that we got from our GridSearchCV on this expanded training set "
   ]
  },
  {
   "cell_type": "code",
   "execution_count": 33,
   "metadata": {},
   "outputs": [],
   "source": [
    "from scipy.ndimage.interpolation import shift\n"
   ]
  },
  {
   "cell_type": "code",
   "execution_count": 34,
   "metadata": {},
   "outputs": [],
   "source": [
    "#returns an image shifted by the specified number of pixels\n",
    "def shift_image(image, x, y):\n",
    "    image = image.reshape((28, 28))\n",
    "    shifted_image = shift(image, [y, x], cval=0, mode=\"constant\")\n",
    "    return shifted_image.reshape([-1])"
   ]
  },
  {
   "cell_type": "code",
   "execution_count": 35,
   "metadata": {},
   "outputs": [
    {
     "data": {
      "image/png": "[encoded data removed]",
      "text/plain": [
       "<Figure size 432x288 with 1 Axes>"
      ]
     },
     "metadata": {
      "needs_background": "light"
     },
     "output_type": "display_data"
    },
    {
     "data": {
      "image/png": "[encoded data removed]",
      "text/plain": [
       "<Figure size 432x288 with 1 Axes>"
      ]
     },
     "metadata": {
      "needs_background": "light"
     },
     "output_type": "display_data"
    },
    {
     "data": {
      "image/png": "[encoded data removed]",
      "text/plain": [
       "<Figure size 432x288 with 1 Axes>"
      ]
     },
     "metadata": {
      "needs_background": "light"
     },
     "output_type": "display_data"
    },
    {
     "data": {
      "image/png": "[encoded data removed]",
      "text/plain": [
       "<Figure size 432x288 with 1 Axes>"
      ]
     },
     "metadata": {
      "needs_background": "light"
     },
     "output_type": "display_data"
    }
   ],
   "source": [
    "#Test image to see the output of out shift_image function\n",
    "image = train_data[5000]\n",
    "shifted_image_up = shift_image(image, 0, -5)\n",
    "shifted_image_down = shift_image(image, 0, 5)\n",
    "shifted_image_right = shift_image(image, 5, 0)\n",
    "shifted_image_left = shift_image(image, -5, 0)\n",
    "\n",
    "plt.title(\"Original\")\n",
    "digit_visual(image)\n",
    "\n",
    "plt.title(\"Shifted Up\")\n",
    "digit_visual(shifted_image_up)\n",
    "\n",
    "plt.title(\"Shifted down\")\n",
    "digit_visual(shifted_image_down)\n",
    "\n",
    "plt.title(\"Shifted left\")\n",
    "digit_visual(shifted_image_left)"
   ]
  },
  {
   "cell_type": "code",
   "execution_count": 42,
   "metadata": {},
   "outputs": [],
   "source": [
    "train_data_expanded = [image for image in train_data]\n",
    "train_labels_expanded = [label for label in train_labels]\n",
    "\n",
    "for x, y in ((1, 0), (-1, 0), (0, 1), (0, -1)):\n",
    "    for image, label in zip(train_data, train_labels):\n",
    "        train_data_expanded.append(shift_image(image, x, y))\n",
    "        train_labels_expanded.append(label)\n",
    "\n",
    "train_data_expanded = np.array(train_data_expanded)\n",
    "train_labels_expanded = np.array(train_labels_expanded)"
   ]
  },
  {
   "cell_type": "code",
   "execution_count": 43,
   "metadata": {},
   "outputs": [],
   "source": [
    "shuffle_index = np.random.permutation(len(train_data_expanded))\n",
    "train_data_expanded = train_data_expanded[shuffle_index]\n",
    "train_labels_expanded = train_labels_expanded[shuffle_index]"
   ]
  },
  {
   "cell_type": "code",
   "execution_count": 44,
   "metadata": {
    "scrolled": true
   },
   "outputs": [
    {
     "name": "stdout",
     "output_type": "stream",
     "text": [
      "Original Test dataset:  (60000, 784)\n",
      "Expanded Test dataset:  (300000, 784)\n",
      "Original Labels:  60000\n",
      "Expanded Labels:  300000\n"
     ]
    }
   ],
   "source": [
    "#Lets check the shapoe of our expanded test set\n",
    "print(\"Original Test dataset: \", train_data.shape)\n",
    "print(\"Expanded Test dataset: \", train_data_expanded.shape)\n",
    "\n",
    "print(\"Original Labels: \", len(train_labels))\n",
    "print(\"Expanded Labels: \", len(train_labels_expanded))"
   ]
  },
  {
   "cell_type": "code",
   "execution_count": 45,
   "metadata": {},
   "outputs": [],
   "source": [
    "kNN_classifier_expanded = KNeighborsClassifier(**grid_search.best_params_)"
   ]
  },
  {
   "cell_type": "code",
   "execution_count": 49,
   "metadata": {},
   "outputs": [
    {
     "data": {
      "text/plain": [
       "KNeighborsClassifier(n_neighbors=3, weights='distance')"
      ]
     },
     "execution_count": 49,
     "metadata": {},
     "output_type": "execute_result"
    }
   ],
   "source": [
    "kNN_classifier_expanded.fit(train_data_expanded, train_labels_expanded)"
   ]
  },
  {
   "cell_type": "code",
   "execution_count": 50,
   "metadata": {},
   "outputs": [
    {
     "data": {
      "text/plain": [
       "0.9763"
      ]
     },
     "execution_count": 50,
     "metadata": {},
     "output_type": "execute_result"
    }
   ],
   "source": [
    "kNN_expanded_prediction = kNN_classifier_expanded.predict(test_data)\n",
    "accuracy_score(test_labels, kNN_expanded_prediction)"
   ]
  },
  {
   "cell_type": "code",
   "execution_count": 52,
   "metadata": {},
   "outputs": [],
   "source": [
    "accuracy = accuracy_score(test_labels, kNN_expanded_prediction)"
   ]
  },
  {
   "cell_type": "code",
   "execution_count": 55,
   "metadata": {},
   "outputs": [
    {
     "name": "stdout",
     "output_type": "stream",
     "text": [
      "2.37 %\n"
     ]
    }
   ],
   "source": [
    "error = round(((1 - accuracy)*100),2)\n",
    "print(error,\"%\")"
   ]
  },
  {
   "cell_type": "markdown",
   "metadata": {},
   "source": [
    "## 13. Conclusion\n",
    "\n",
    "So we managed to build a pretty good classifier considering that the algorithm used was pretty simple. We started off by looking at the nearest neighbor with k = 1 and then we tweaked the model to look at multiple nearest neighbors instead of one. We also looked at a technique called data expansion where we expanded our dataset so that our clasiifier had more data points to learn from which lead to a even better predictions. In the end we acchieved an accuracy score of 0.9763. "
   ]
  },
  {
   "cell_type": "code",
   "execution_count": null,
   "metadata": {},
   "outputs": [],
   "source": []
  }
 ],
 "metadata": {
  "kernelspec": {
   "display_name": "Python 3",
   "language": "python",
   "name": "python3"
  },
  "language_info": {
   "codemirror_mode": {
    "name": "ipython",
    "version": 3
   },
   "file_extension": ".py",
   "mimetype": "text/x-python",
   "name": "python",
   "nbconvert_exporter": "python",
   "pygments_lexer": "ipython3",
   "version": "3.8.3"
  }
 },
 "nbformat": 4,
 "nbformat_minor": 4
}
